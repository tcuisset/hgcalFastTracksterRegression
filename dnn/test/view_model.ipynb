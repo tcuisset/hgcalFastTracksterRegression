{
 "cells": [
  {
   "cell_type": "code",
   "execution_count": 30,
   "metadata": {},
   "outputs": [
    {
     "name": "stdout",
     "output_type": "stream",
     "text": [
      "The autoreload extension is already loaded. To reload it, use:\n",
      "  %reload_ext autoreload\n"
     ]
    }
   ],
   "source": [
    "%load_ext autoreload\n",
    "%autoreload 2\n",
    "import sys\n",
    "sys.path.append(\"../..\")\n",
    "from dnn.model import *\n",
    "from dnn.ak_sample_loader import features"
   ]
  },
  {
   "cell_type": "code",
   "execution_count": 31,
   "metadata": {},
   "outputs": [
    {
     "data": {
      "text/plain": [
       "LinearEnergyCellTypeOnlyModel(\n",
       "  (model): Sequential(\n",
       "    (0): Linear(in_features=7, out_features=1, bias=True)\n",
       "  )\n",
       ")"
      ]
     },
     "execution_count": 31,
     "metadata": {},
     "output_type": "execute_result"
    }
   ],
   "source": [
    "model_linear = LinearModel()\n",
    "model_linear.load_state_dict(torch.load(\"/grid_mnt/data_cms_upgrade/cuisset/ticlRegression/models/v3/linear-v3/model.pt\")[\"model_state_dict\"])\n",
    "model_linear.eval()\n",
    "\n",
    "model_linear_onlyCellType = LinearEnergyCellTypeOnlyModel()\n",
    "model_linear_onlyCellType.load_state_dict(torch.load(\"/grid_mnt/data_cms_upgrade/cuisset/ticlRegression/models/v3/linear-onlyCellType/model.pt\")[\"model_state_dict\"])\n",
    "model_linear_onlyCellType.eval()"
   ]
  },
  {
   "cell_type": "code",
   "execution_count": 26,
   "metadata": {},
   "outputs": [],
   "source": [
    "def print_linear_model(model, features_v):\n",
    "    weights_str = [f\"{feat_name}*{model[0].weight[0, feat_i].item():.2f}\" for feat_i, feat_name in features_v.items()]\n",
    "    return \" + \".join(weights_str) + f\" + {model[0].bias.item():.2f}\""
   ]
  },
  {
   "cell_type": "code",
   "execution_count": 27,
   "metadata": {},
   "outputs": [
    {
     "data": {
      "text/plain": [
       "'raw_energy*0.76 + barycenter_eta*0.23 + barycenter_z*0.05 + energy_CE_E_120*0.66 + energy_CE_E_200*0.55 + energy_CE_E_300*0.71 + energy_CE_H_120*0.48 + energy_CE_H_200*0.54 + energy_CE_H_300*0.66 + energy_CE_H_SCINT*0.31 + 0.06'"
      ]
     },
     "execution_count": 27,
     "metadata": {},
     "output_type": "execute_result"
    }
   ],
   "source": [
    "print_linear_model(model_linear.model, features[\"feat-v1\"])"
   ]
  },
  {
   "cell_type": "code",
   "execution_count": 32,
   "metadata": {},
   "outputs": [
    {
     "data": {
      "text/plain": [
       "'energy_CE_E_120*1.50 + energy_CE_E_200*1.44 + energy_CE_E_300*1.59 + energy_CE_H_120*1.47 + energy_CE_H_200*1.57 + energy_CE_H_300*1.62 + energy_CE_H_SCINT*0.15 + 2.25'"
      ]
     },
     "execution_count": 32,
     "metadata": {},
     "output_type": "execute_result"
    }
   ],
   "source": [
    "print_linear_model(model_linear_onlyCellType.model, features[\"feat-v1-cellTypeOnly\"])"
   ]
  }
 ],
 "metadata": {
  "kernelspec": {
   "display_name": "ticlRegression-gpu",
   "language": "python",
   "name": "python3"
  },
  "language_info": {
   "codemirror_mode": {
    "name": "ipython",
    "version": 3
   },
   "file_extension": ".py",
   "mimetype": "text/x-python",
   "name": "python",
   "nbconvert_exporter": "python",
   "pygments_lexer": "ipython3",
   "version": "3.11.8"
  }
 },
 "nbformat": 4,
 "nbformat_minor": 2
}
