{
 "cells": [
  {
   "cell_type": "code",
   "execution_count": 12,
   "metadata": {},
   "outputs": [
    {
     "name": "stdout",
     "output_type": "stream",
     "text": [
      "The autoreload extension is already loaded. To reload it, use:\n",
      "  %reload_ext autoreload\n"
     ]
    }
   ],
   "source": [
    "%load_ext autoreload\n",
    "%autoreload 2\n",
    "import torch\n",
    "from torch.utils.data import TensorDataset, DataLoader\n",
    "from torch import nn\n",
    "from torch_scatter import scatter_add\n",
    "import uproot\n",
    "import awkward as ak\n",
    "\n",
    "import sys\n",
    "sys.path.append(\"..\")\n",
    "from dnn.ak_sample_loader import *"
   ]
  },
  {
   "cell_type": "code",
   "execution_count": 13,
   "metadata": {},
   "outputs": [],
   "source": [
    "input = AkSampleLoader(\"/grid_mnt/data_cms_upgrade/cuisset/ticlRegression/PionSamples_v2/histo/histo_9376310_0.root\")"
   ]
  },
  {
   "cell_type": "code",
   "execution_count": 15,
   "metadata": {},
   "outputs": [
    {
     "data": {
      "text/html": [
       "<pre>[[[3.8, 2.36, 410, 56.8, 1.67, 0.022, 7.32, ..., 0, 0, 0.958, 0, 2.84, 0], ...],\n",
       " [[147, 2.59, 349, 33.9, 0.0149, 0.00992, 5.66, ..., 0, 0, 0, 0, 0, 0], ...],\n",
       " [[143, 1.9, 353, 27.6, 0.0132, 0.00577, ..., 112, 31.5, 0, 0, 0, 0], ...],\n",
       " [[131, 2.33, 357, 17.9, 0.0218, 0.00687, 3.95, ..., 0, 0, 0, 0, 0, 0], ...],\n",
       " [[77.8, 1.84, 407, 66.3, 0.172, 0.00679, 8.14, ..., 0, 0, 0, 0, 0, 77.8, 0]],\n",
       " [[361, 2.94, 355, 110, 0.293, 0.0701, 10.4, ..., 0, 0, 42.6, 0, 0, 0], ...],\n",
       " [[117, 2.16, 350, 34.9, 0.0907, 0.0121, ..., 0, 0, 0, 2.65, 0.393, 0], ...],\n",
       " [[134, 1.55, 355, 82.4, 0.123, 0.0145, 9.01, ..., 0, 122, 0, 0, 12.8, 0], ...],\n",
       " [[239, 1.85, 371, 324, 0.232, 0.04, 17.7, ..., 0, 0, 90.3, 0, 0, 149, 0], ...],\n",
       " [[131, 2.04, 346, 85.3, 0.056, 0.00601, ..., 122, 3.94, 0, 2.2, 3.11, 0], ...],\n",
       " ...,\n",
       " [[301, 1.84, 404, 237, 0.0328, 0.00852, 13.7, ..., 0, 0, 0, 0, 301, 0], ...],\n",
       " [[75.7, 1.89, 387, 142, 0.946, 0.647, 11, ..., 0, 0, 3.3, 0, 0, 72.3, 0], ...],\n",
       " [[114, 2.53, 446, 355, 0.106, 0.0561, 18.7, ..., 0, 0, 0, 38.5, 75.8, 0], ...],\n",
       " [[106, 2.84, 426, 496, 0.88, 0.609, ..., 0, 0, 24.8, 76.3, 5.28, 0], ...],\n",
       " [[76.6, 1.9, 337, 36.7, 0.0953, 0.0445, 5.54, ..., 13.5, 63, 0, 0, 0, 0], ...],\n",
       " [[10.1, 1.81, 419, 89.6, 1.26, 0.165, 7.61, ..., 0, 0, 0, 0, 0, 10.1, 0], ...],\n",
       " [[248, 2.83, 447, 119, 1.33, 0.0471, 10.9, ..., 0, 0, 0, 241, 6.98, 0], ...],\n",
       " [[255, 2.96, 365, 166, 1.06, 0.235, 12.8, ..., 157, 0, 0, 98.4, 0, 0, 0], ...],\n",
       " [[227, 2.79, 353, 74.8, 0.0891, 0.0578, ..., 0, 0, 14.3, 0.338, 0, 0], ...]]\n",
       "--------------------------------------------------------------------------------\n",
       "type: 94 * var * 17 * float64</pre>"
      ],
      "text/plain": [
       "<Array [[[3.8, 2.36, ..., 2.84, 0], ...], ...] type='94 * var * 17 * float64'>"
      ]
     },
     "execution_count": 15,
     "metadata": {},
     "output_type": "execute_result"
    }
   ],
   "source": [
    "input.makeDataAk(\"feat-v2\")"
   ]
  },
  {
   "cell_type": "code",
   "execution_count": 16,
   "metadata": {},
   "outputs": [
    {
     "data": {
      "text/html": [
       "<pre>[{time: 13.2, timeBoundary: 0.0525, timeError: 0.0138, ...},\n",
       " {time: -99, timeBoundary: 0.0516, timeError: -1, regressed_energy: 8.42, ...},\n",
       " {time: 13.1, timeBoundary: -0.0583, timeError: 0.00918, ...},\n",
       " {time: 12.9, timeBoundary: 0.274, timeError: 0.0246, ...},\n",
       " {time: 11.6, timeBoundary: -0.304, timeError: 0.018, ...},\n",
       " {time: -99, timeBoundary: 0.167, timeError: -1, regressed_energy: 28.1, ...},\n",
       " {time: 12.2, timeBoundary: 0.116, timeError: 0.0101, ...},\n",
       " {time: 12.8, timeBoundary: 0.0719, timeError: 0.0135, ...},\n",
       " {time: 11.9, timeBoundary: 0.0681, timeError: 0.02, ...},\n",
       " {time: -99, timeBoundary: -0.299, timeError: -1, regressed_energy: 59.5, ...},\n",
       " {time: 12.7, timeBoundary: 0.0525, timeError: 0.0116, ...},\n",
       " {time: -99, timeBoundary: 0.0516, timeError: -1, regressed_energy: 8.41, ...},\n",
       " {time: -99, timeBoundary: -0.0583, timeError: -1, regressed_energy: 21.8, ...},\n",
       " {time: -99, timeBoundary: 0.274, timeError: -1, regressed_energy: 24.5, ...},\n",
       " {time: 13.1, timeBoundary: -0.304, timeError: 0.0157, ...},\n",
       " {time: -99, timeBoundary: 0.167, timeError: -1, regressed_energy: 28.1, ...},\n",
       " {time: 12, timeBoundary: 0.116, timeError: 0.0081, regressed_energy: ..., ...},\n",
       " {time: 13.2, timeBoundary: 0.0719, timeError: 0.011, ...},\n",
       " {time: -99, timeBoundary: 0.0681, timeError: -1, regressed_energy: 29.6, ...},\n",
       " {time: 11.9, timeBoundary: -0.299, timeError: 0.0126, ...}]\n",
       "--------------------------------------------------------------------------------\n",
       "type: 20 * caloparticle[\n",
       "    time: float32,\n",
       "    timeBoundary: float32,\n",
       "    timeError: float32,\n",
       "    regressed_energy: float32,\n",
       "    regressed_pt: float32,\n",
       "    raw_energy: float32,\n",
       "    raw_em_energy: float32,\n",
       "    raw_pt: float32,\n",
       "    raw_em_pt: float32,\n",
       "    barycenter_x: float32,\n",
       "    barycenter_y: float32,\n",
       "    barycenter_z: float32,\n",
       "    barycenter_eta: float32,\n",
       "    barycenter_phi: float32,\n",
       "    pdgID: int32,\n",
       "    trackIdx: int32,\n",
       "    trackTime: float32,\n",
       "    boundaryX: float32,\n",
       "    boundaryY: float32,\n",
       "    boundaryZ: float32,\n",
       "    boundaryEta: float32,\n",
       "    boundaryPhi: float32,\n",
       "    boundaryPx: float32,\n",
       "    boundaryPy: float32,\n",
       "    boundaryPz: float32,\n",
       "    track_boundaryX: float32,\n",
       "    track_boundaryY: float32,\n",
       "    track_boundaryZ: float32,\n",
       "    track_boundaryEta: float32,\n",
       "    track_boundaryPhi: float32,\n",
       "    track_boundaryPx: float32,\n",
       "    track_boundaryPy: float32,\n",
       "    track_boundaryPz: float32,\n",
       "    id_probabilities: var * float32,\n",
       "    vertices_indexes: var * uint32,\n",
       "    vertices_x: var * float32,\n",
       "    vertices_y: var * float32,\n",
       "    vertices_z: var * float32,\n",
       "    vertices_time: var * float32,\n",
       "    vertices_timeErr: var * float32,\n",
       "    vertices_energy: var * float32,\n",
       "    vertices_correctedEnergy: var * float32,\n",
       "    vertices_correctedEnergyUncertainty: var * float32\n",
       "]</pre>"
      ],
      "text/plain": [
       "<Array [{time: 13.2, ...}, {...}, ..., {...}] type='20 * caloparticle[time:...'>"
      ]
     },
     "execution_count": 16,
     "metadata": {},
     "output_type": "execute_result"
    }
   ],
   "source": [
    "input.caloparticles_splitEndcaps"
   ]
  },
  {
   "cell_type": "code",
   "execution_count": 8,
   "metadata": {},
   "outputs": [],
   "source": [
    "# enum :   enum CellType {\n",
    "#     CE_E_120 = 0,\n",
    "#     CE_E_200 = 1,\n",
    "#     CE_E_300 = 2,\n",
    "#     CE_H_120 = 3,\n",
    "#     CE_H_200 = 4,\n",
    "#     CE_H_300 = 5,\n",
    "#     CE_H_SCINT = 6,\n",
    "#     EnumSize = 7\n",
    "#   };\n"
   ]
  },
  {
   "cell_type": "code",
   "execution_count": 18,
   "metadata": {},
   "outputs": [
    {
     "data": {
      "text/html": [
       "<pre>[[[0, 0.153, 2.75, 0, 0, 0.141, 0], [0, 0, 0, 0, 0, 0.93, 0]],\n",
       " [[0, 1.37, 0, 0, 0, 0, 0]],\n",
       " [[0, 0, 5.76, 0, 0, 0.173, 0], [0, 0, 0, 0, 0, 0.989, 0]],\n",
       " [[5.38, 0, 0, 4.19, 0, 0, 0], [0, 0, 0, 1.41, 0, 0, 0]],\n",
       " [[17.4, 0, 0, 2.59, 0.106, 0, 0], [0, 0, 0, 1.83, 0, 0, 0]],\n",
       " [[9.62, 0, 0, 0, 0, 0, 0], [1, 0, 0, 0, 0, 0, 0]],\n",
       " [[20.3, 0.0668, 0, 2.88, 1.57, 0, 0]],\n",
       " [[0, 7.36, 0, 0, 0.381, 0.929, 0]],\n",
       " [[9.55, 0, 0, 0, 0, 0, 0], [2.42, 0, ..., 0], [0.904, 0, 0, 0, 0, 0, 0]],\n",
       " [[16.8, 0, 0, 0, 0, 0, 0], [0, ..., 0], ..., [0.0723, 0, 0, 0.999, 0, 0, 0]],\n",
       " [[0, 0, 0, 0, 0, 9.48, 0]],\n",
       " [[0, 0, 2.78, 0, 0, 0, 0], [0, 0, ..., 0, 0], [0, 0, 1.27, 0, 0, 0, 0]],\n",
       " [[0, 0.102, 0.12, 0, 0, 18.7, 0]],\n",
       " [[4.56, 0, 0, 0, 0, 0, 0], [1.89, 0, ..., 0], [1.07, 0, 0, 0, 0, 0, 0]],\n",
       " [[0.102, 0, 0, 32.3, 2.72, 0, 0], [0, 0, 0, 0, 1.2, 0.664, 0]],\n",
       " [[4.11, 0.0942, 0, 0, 0, 0, 0], [...], [1.79, 0.0642, 0, 0, 0, 0, 0]],\n",
       " [[18.6, 0, 0, 0, 0, 0, 0], [1.81, 0, 0, 0, 0, 0, 0]],\n",
       " [[0, 0.132, 0, 0, 0, 13.8, 0]],\n",
       " [[1.39, 0, 0, 0, 0, 0, 0], [0.677, 0, 0, 0, 0, 0, 0]],\n",
       " [[21.9, 0, 0, 3.08, 0, 0, 0], [0, 0, ..., 0], [0, 0, 0, 0.89, 0, 0, 0]]]\n",
       "------------------------------------------------------------------------------\n",
       "type: 20 * var * 7 * float32</pre>"
      ],
      "text/plain": [
       "<Array [[[0, 0.153, ..., 0.141, 0], ...], ...] type='20 * var * 7 * float32'>"
      ]
     },
     "execution_count": 18,
     "metadata": {},
     "output_type": "execute_result"
    }
   ],
   "source": [
    "input.energyPerCellType"
   ]
  },
  {
   "cell_type": "markdown",
   "metadata": {},
   "source": [
    "## Version without clipping"
   ]
  },
  {
   "cell_type": "code",
   "execution_count": 19,
   "metadata": {},
   "outputs": [],
   "source": [
    "true_energy = torch.tensor(input.caloparticles_splitEndcaps.regressed_energy)"
   ]
  },
  {
   "cell_type": "code",
   "execution_count": 51,
   "metadata": {},
   "outputs": [
    {
     "data": {
      "text/plain": [
       "torch.Size([44])"
      ]
     },
     "execution_count": 51,
     "metadata": {},
     "output_type": "execute_result"
    }
   ],
   "source": [
    "tsInEvt_idx = torch.tensor(ak.flatten(ak.broadcast_arrays(ak.local_index(input.tracksters_splitEndcaps.raw_energy, axis=0), input.tracksters_splitEndcaps.raw_energy)[0]))\n",
    "tsInEvt_idx.shape"
   ]
  },
  {
   "cell_type": "code",
   "execution_count": 42,
   "metadata": {},
   "outputs": [],
   "source": [
    "def akToTensor_noClip(ar:ak.Array):\n",
    "    return torch.tensor(ak.flatten(ar))"
   ]
  },
  {
   "cell_type": "code",
   "execution_count": 54,
   "metadata": {},
   "outputs": [],
   "source": [
    "data = torch.stack([akToTensor_noClip(tracksters_splitEndcaps.raw_energy), akToTensor_noClip(input.tracksters_splitEndcaps.barycenter_eta), akToTensor_noClip(input.tracksters_splitEndcaps.barycenter_z)] + [akToTensor_noClip(input.energyPerCellType[:, :, cellType_i]) for cellType_i in range(7)], dim=-1)"
   ]
  },
  {
   "cell_type": "code",
   "execution_count": 57,
   "metadata": {},
   "outputs": [
    {
     "data": {
      "text/plain": [
       "torch.Size([44, 10])"
      ]
     },
     "execution_count": 57,
     "metadata": {},
     "output_type": "execute_result"
    }
   ],
   "source": [
    "data.shape"
   ]
  },
  {
   "cell_type": "code",
   "execution_count": 60,
   "metadata": {},
   "outputs": [],
   "source": [
    "class NetworkNoClip(nn.Module):\n",
    "    def __init__(self):\n",
    "        super().__init__()\n",
    "        self.model = nn.Sequential(\n",
    "            nn.Linear(data.shape[-1], 1, dtype=data.dtype),\n",
    "        )\n",
    "\n",
    "    def forward(self, x):\n",
    "        return torch.squeeze(self.model(x))\n",
    "net = NetworkNoClip()"
   ]
  },
  {
   "cell_type": "code",
   "execution_count": 61,
   "metadata": {},
   "outputs": [
    {
     "data": {
      "text/plain": [
       "tensor([ 29.8255,  32.7520,  28.7608,  27.9655,  36.0864,  28.8798,  32.2802,\n",
       "         25.1754,  33.4956,  26.7288,  28.3129,  25.7363,  27.1157,  27.5983,\n",
       "         29.3331,  28.9366,  25.8991,  35.6060,  28.1522,  28.6858,  31.3700,\n",
       "         28.5225,  32.2580, -32.6915, -33.0454, -32.0779, -32.0959, -35.1889,\n",
       "        -30.3262, -29.3601, -29.6520, -47.7183, -41.3281, -29.7770, -31.6684,\n",
       "        -29.0842, -32.9314, -31.8502, -34.3254, -29.0414, -29.1650, -36.3884,\n",
       "        -34.7929, -34.5013], grad_fn=<SqueezeBackward0>)"
      ]
     },
     "execution_count": 61,
     "metadata": {},
     "output_type": "execute_result"
    }
   ],
   "source": [
    "net(data)"
   ]
  },
  {
   "cell_type": "code",
   "execution_count": 65,
   "metadata": {},
   "outputs": [
    {
     "data": {
      "text/plain": [
       "tensor([  62.5775,   28.7608,   64.0518,   61.1601,   58.6711,   55.0416,\n",
       "          25.7363,   27.1157,   85.8680,  210.4936,  -32.6915,  -97.2192,\n",
       "         -35.1889,  -89.3383,  -89.0464,  -90.5297,  -64.7816,  -34.3254,\n",
       "         -58.2064, -105.6825], grad_fn=<ScatterAddBackward0>)"
      ]
     },
     "execution_count": 65,
     "metadata": {},
     "output_type": "execute_result"
    }
   ],
   "source": [
    "scatter_add(net(data), tsInEvt_idx)"
   ]
  },
  {
   "cell_type": "code",
   "execution_count": 66,
   "metadata": {},
   "outputs": [
    {
     "data": {
      "text/plain": [
       "tensor(7357.2197, grad_fn=<MseLossBackward0>)"
      ]
     },
     "execution_count": 66,
     "metadata": {},
     "output_type": "execute_result"
    }
   ],
   "source": [
    "loss_fct = nn.MSELoss()\n",
    "loss = loss_fct(scatter_add(net(data), tsInEvt_idx), true_energy)\n",
    "loss"
   ]
  },
  {
   "cell_type": "code",
   "execution_count": 69,
   "metadata": {},
   "outputs": [
    {
     "data": {
      "text/plain": [
       "tensor([0.3364, 0.1629, 0.3169, 0.4494, 0.3576, 0.3785, 0.6750, 0.4717, 0.4358,\n",
       "        0.4709, 0.8010, 0.6355, 0.8678, 0.3077, 0.6035, 0.3467, 0.5526, 0.7568,\n",
       "        0.0697, 0.4638])"
      ]
     },
     "execution_count": 69,
     "metadata": {},
     "output_type": "execute_result"
    }
   ],
   "source": [
    "scatter_add(data[:, 0], tsInEvt_idx)/true_energy"
   ]
  }
 ],
 "metadata": {
  "kernelspec": {
   "display_name": "supercls-analyzer",
   "language": "python",
   "name": "python3"
  },
  "language_info": {
   "codemirror_mode": {
    "name": "ipython",
    "version": 3
   },
   "file_extension": ".py",
   "mimetype": "text/x-python",
   "name": "python",
   "nbconvert_exporter": "python",
   "pygments_lexer": "ipython3",
   "version": "3.11.8"
  }
 },
 "nbformat": 4,
 "nbformat_minor": 2
}
