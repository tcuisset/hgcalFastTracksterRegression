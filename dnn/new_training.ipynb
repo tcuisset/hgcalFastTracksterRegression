{
 "cells": [
  {
   "cell_type": "code",
   "execution_count": 11,
   "metadata": {},
   "outputs": [
    {
     "name": "stdout",
     "output_type": "stream",
     "text": [
      "The autoreload extension is already loaded. To reload it, use:\n",
      "  %reload_ext autoreload\n"
     ]
    }
   ],
   "source": [
    "%load_ext autoreload\n",
    "%autoreload 2\n",
    "import torch\n",
    "from torch.utils.data import TensorDataset, DataLoader, StackDataset\n",
    "from torch import nn\n",
    "from torch_scatter import scatter_add\n",
    "import uproot\n",
    "import awkward as ak\n",
    "import numpy as np\n",
    "import matplotlib.pyplot as plt\n",
    "import mplhep as hep\n",
    "plt.style.use(hep.style.CMS)\n",
    "import hist\n",
    "\n",
    "import sys\n",
    "sys.path.append(\"..\")\n",
    "from dnn.ak_sample_loader import *\n",
    "from dnn.torch_dataset import *\n",
    "from dnn.training import *"
   ]
  },
  {
   "cell_type": "code",
   "execution_count": 12,
   "metadata": {},
   "outputs": [],
   "source": [
    "input = AkSampleLoader.loadFromPickle(\"/grid_mnt/data_cms_upgrade/cuisset/ticlRegression/PionSamples/fullData.pkl\")"
   ]
  },
  {
   "cell_type": "code",
   "execution_count": 13,
   "metadata": {},
   "outputs": [],
   "source": [
    "train_dataloader = makeDataLoader(makeTrainingSample(input), batch_size=300)"
   ]
  },
  {
   "cell_type": "code",
   "execution_count": 14,
   "metadata": {},
   "outputs": [],
   "source": [
    "from dnn.model import BasicDNN, loss_mse_basic\n",
    "device = torch.device('cuda:0')\n",
    "net = BasicDNN().to(device)\n",
    "optimizer = torch.optim.AdamW(net.parameters(), lr=1e-3, weight_decay=1e-3)"
   ]
  },
  {
   "cell_type": "code",
   "execution_count": 18,
   "metadata": {},
   "outputs": [],
   "source": [
    "trainer = Trainer(net, loss_mse_basic, train_dataloader, optimizer, device)"
   ]
  },
  {
   "cell_type": "code",
   "execution_count": 19,
   "metadata": {},
   "outputs": [
    {
     "name": "stdout",
     "output_type": "stream",
     "text": [
      "########## Epoch 0\n"
     ]
    },
    {
     "data": {
      "application/vnd.jupyter.widget-view+json": {
       "model_id": "b069cef221fd456c88426b5bdfbff82b",
       "version_major": 2,
       "version_minor": 0
      },
      "text/plain": [
       "  0%|          | 0/328 [00:00<?, ?it/s]"
      ]
     },
     "metadata": {},
     "output_type": "display_data"
    },
    {
     "name": "stdout",
     "output_type": "stream",
     "text": [
      "loss: 370028.572333\n",
      "loss: 172678.916771\n",
      "loss: 82808.018207\n",
      "loss: 29185.727605\n",
      "loss: 16202.980873\n",
      "loss: 15201.862037\n",
      "loss: 17373.429814\n",
      "loss: 13117.065284\n",
      "loss: 12399.588811\n",
      "loss: 12248.820058\n",
      "loss: 13044.342279\n",
      "loss: 11155.465651\n",
      "loss: 11760.134217\n",
      "loss: 11921.966733\n",
      "loss: 11910.114335\n",
      "loss: 13500.286573\n",
      "loss: 11153.228582\n",
      "loss: 11221.880078\n",
      "loss: 9402.298373\n",
      "loss: 10808.337036\n",
      "loss: 11815.378917\n",
      "loss: 12648.454763\n",
      "loss: 9593.040594\n",
      "loss: 10767.819706\n",
      "loss: 8985.740225\n",
      "loss: 9878.206033\n",
      "loss: 9433.028594\n",
      "loss: 6903.291131\n",
      "loss: 10235.323226\n",
      "loss: 9144.525082\n",
      "loss: 9408.330960\n",
      "loss: 10099.008797\n",
      "loss: 8563.834519\n",
      "########## Epoch 1\n"
     ]
    },
    {
     "data": {
      "application/vnd.jupyter.widget-view+json": {
       "model_id": "91caf7eb1c55481ab150086fee5d6f03",
       "version_major": 2,
       "version_minor": 0
      },
      "text/plain": [
       "  0%|          | 0/328 [00:00<?, ?it/s]"
      ]
     },
     "metadata": {},
     "output_type": "display_data"
    },
    {
     "name": "stdout",
     "output_type": "stream",
     "text": [
      "loss: 7591.487345\n",
      "loss: 7849.500638\n",
      "loss: 7168.682121\n",
      "loss: 8236.938732\n",
      "loss: 7277.361694\n",
      "loss: 7808.294912\n",
      "loss: 8140.029566\n",
      "loss: 6115.752269\n",
      "loss: 6421.073881\n",
      "loss: 5742.316629\n",
      "loss: 6437.331284\n",
      "loss: 5276.669674\n",
      "loss: 5957.082583\n",
      "loss: 5485.565313\n",
      "loss: 5493.528609\n",
      "loss: 6378.741554\n",
      "loss: 4907.390019\n",
      "loss: 4492.670798\n",
      "loss: 4065.246296\n",
      "loss: 5036.385129\n",
      "loss: 5969.687517\n",
      "loss: 6265.395755\n",
      "loss: 5309.675698\n",
      "loss: 5205.245164\n",
      "loss: 3973.209753\n",
      "loss: 4229.169999\n",
      "loss: 4883.345829\n",
      "loss: 2905.165350\n",
      "loss: 4821.931257\n",
      "loss: 4489.996685\n",
      "loss: 4333.308904\n",
      "loss: 5129.737475\n",
      "loss: 3615.463989\n"
     ]
    }
   ],
   "source": [
    "trainer.full_train(2)"
   ]
  },
  {
   "cell_type": "code",
   "execution_count": 20,
   "metadata": {},
   "outputs": [],
   "source": [
    "trainer.save(\"/grid_mnt/data_cms_upgrade/cuisset/ticlRegression/models/v1.pt\")"
   ]
  }
 ],
 "metadata": {
  "kernelspec": {
   "display_name": "ticlRegression-gpu",
   "language": "python",
   "name": "python3"
  },
  "language_info": {
   "codemirror_mode": {
    "name": "ipython",
    "version": 3
   },
   "file_extension": ".py",
   "mimetype": "text/x-python",
   "name": "python",
   "nbconvert_exporter": "python",
   "pygments_lexer": "ipython3",
   "version": "3.11.8"
  }
 },
 "nbformat": 4,
 "nbformat_minor": 2
}
