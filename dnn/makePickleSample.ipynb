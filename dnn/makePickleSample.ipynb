{
 "cells": [
  {
   "cell_type": "code",
   "execution_count": 1,
   "metadata": {},
   "outputs": [],
   "source": [
    "%load_ext autoreload\n",
    "%autoreload 2\n",
    "import sys\n",
    "sys.path.append(\"..\")\n",
    "from dnn.ak_sample_loader import *"
   ]
  },
  {
   "cell_type": "code",
   "execution_count": 2,
   "metadata": {},
   "outputs": [],
   "source": [
    "input_full = AkSampleLoader(\"/grid_mnt/data_cms_upgrade/cuisset/ticlRegression/PionSamples_v2/histo/histo_*.root\", shouldSplitEndcaps=False)\n"
   ]
  },
  {
   "cell_type": "code",
   "execution_count": 3,
   "metadata": {},
   "outputs": [],
   "source": [
    "input_full.saveToPickle(\"/grid_mnt/data_cms_upgrade/cuisset/ticlRegression/PionSamples_v2/fullData.pkl\")"
   ]
  },
  {
   "cell_type": "code",
   "execution_count": 4,
   "metadata": {},
   "outputs": [
    {
     "data": {
      "text/html": [
       "<pre>[[{NClusters: 322, raw_energy: 103, raw_energy_perCellType: [...], ...}, ...],\n",
       " [{NClusters: 594, raw_energy: 74.5, raw_energy_perCellType: [...], ...}, ...],\n",
       " [{NClusters: 307, raw_energy: 129, raw_energy_perCellType: [...], ...}, ...],\n",
       " [{NClusters: 818, raw_energy: 176, raw_energy_perCellType: [...], ...}, ...],\n",
       " [{NClusters: 552, raw_energy: 118, raw_energy_perCellType: [...], ...}, ...],\n",
       " [{NClusters: 194, raw_energy: 43.4, raw_energy_perCellType: [...], ...}, ...],\n",
       " [{NClusters: 300, raw_energy: 257, raw_energy_perCellType: [...], ...}, ...],\n",
       " [{NClusters: 98, raw_energy: 1.99, raw_energy_perCellType: [...], ...}],\n",
       " [{NClusters: 433, raw_energy: 60.9, raw_energy_perCellType: [...], ...}, ...],\n",
       " [{NClusters: 106, raw_energy: 8.84, raw_energy_perCellType: [...], ...}, ...],\n",
       " ...,\n",
       " [{NClusters: 420, raw_energy: 301, raw_energy_perCellType: [...], ...}, ...],\n",
       " [{NClusters: 382, raw_energy: 75.7, raw_energy_perCellType: [...], ...}, ...],\n",
       " [{NClusters: 177, raw_energy: 114, raw_energy_perCellType: [...], ...}, ...],\n",
       " [{NClusters: 336, raw_energy: 106, raw_energy_perCellType: [...], ...}, ...],\n",
       " [{NClusters: 545, raw_energy: 76.6, raw_energy_perCellType: [...], ...}, ...],\n",
       " [{NClusters: 96, raw_energy: 10.1, raw_energy_perCellType: [...], ...}, ...],\n",
       " [{NClusters: 216, raw_energy: 248, raw_energy_perCellType: [...], ...}, ...],\n",
       " [{NClusters: 364, raw_energy: 255, raw_energy_perCellType: [...], ...}, ...],\n",
       " [{NClusters: 357, raw_energy: 227, raw_energy_perCellType: [...], ...}, ...]]\n",
       "-------------------------------------------------------------------------------\n",
       "type: 93780 * var * trackster[\n",
       "    NClusters: uint32,\n",
       "    raw_energy: float32,\n",
       "    raw_energy_perCellType: var * float32,\n",
       "    barycenter_x: float32,\n",
       "    barycenter_y: float32,\n",
       "    barycenter_z: float32,\n",
       "    barycenter_eta: float32,\n",
       "    barycenter_phi: float32,\n",
       "    EV1: float32,\n",
       "    EV2: float32,\n",
       "    EV3: float32,\n",
       "    sigmaPCA1: float32,\n",
       "    sigmaPCA2: float32,\n",
       "    sigmaPCA3: float32\n",
       "]</pre>"
      ],
      "text/plain": [
       "<Array [[{NClusters: 322, ...}, ...], ...] type='93780 * var * trackster[NC...'>"
      ]
     },
     "execution_count": 4,
     "metadata": {},
     "output_type": "execute_result"
    }
   ],
   "source": [
    "input_full.tracksters_splitEndcaps"
   ]
  },
  {
   "cell_type": "code",
   "execution_count": 16,
   "metadata": {},
   "outputs": [
    {
     "data": {
      "text/html": [
       "<pre>[[{NClusters: 322, raw_energy: 103, raw_energy_perCellType: [...], ...}],\n",
       " [{NClusters: 594, raw_energy: 74.5, raw_energy_perCellType: [...], ...}],\n",
       " [{NClusters: 307, raw_energy: 129, raw_energy_perCellType: [...], ...}],\n",
       " [{NClusters: 818, raw_energy: 176, raw_energy_perCellType: [...], ...}],\n",
       " [{NClusters: 552, raw_energy: 118, raw_energy_perCellType: [...], ...}],\n",
       " [{NClusters: 194, raw_energy: 43.4, raw_energy_perCellType: [...], ...}],\n",
       " [{NClusters: 300, raw_energy: 257, raw_energy_perCellType: [...], ...}],\n",
       " [{NClusters: 98, raw_energy: 1.99, raw_energy_perCellType: [...], ...}],\n",
       " [{NClusters: 433, raw_energy: 60.9, raw_energy_perCellType: [...], ...}],\n",
       " [{NClusters: 106, raw_energy: 8.84, raw_energy_perCellType: [...], ...}],\n",
       " ...,\n",
       " [{NClusters: 420, raw_energy: 301, raw_energy_perCellType: [...], ...}],\n",
       " [{NClusters: 382, raw_energy: 75.7, raw_energy_perCellType: [...], ...}],\n",
       " [{NClusters: 177, raw_energy: 114, raw_energy_perCellType: [...], ...}],\n",
       " [{NClusters: 336, raw_energy: 106, raw_energy_perCellType: [...], ...}],\n",
       " [{NClusters: 545, raw_energy: 76.6, raw_energy_perCellType: [...], ...}],\n",
       " [{NClusters: 96, raw_energy: 10.1, raw_energy_perCellType: [...], ...}],\n",
       " [{NClusters: 216, raw_energy: 248, raw_energy_perCellType: [...], ...}],\n",
       " [{NClusters: 364, raw_energy: 255, raw_energy_perCellType: [...], ...}],\n",
       " [{NClusters: 357, raw_energy: 227, raw_energy_perCellType: [...], ...}]]\n",
       "--------------------------------------------------------------------------\n",
       "type: 93780 * var * trackster[\n",
       "    NClusters: uint32,\n",
       "    raw_energy: float32,\n",
       "    raw_energy_perCellType: var * float32,\n",
       "    barycenter_x: float32,\n",
       "    barycenter_y: float32,\n",
       "    barycenter_z: float32,\n",
       "    barycenter_eta: float32,\n",
       "    barycenter_phi: float32,\n",
       "    EV1: float32,\n",
       "    EV2: float32,\n",
       "    EV3: float32,\n",
       "    sigmaPCA1: float32,\n",
       "    sigmaPCA2: float32,\n",
       "    sigmaPCA3: float32\n",
       "]</pre>"
      ],
      "text/plain": [
       "<Array [[{NClusters: 322, ...}], ..., [{...}]] type='93780 * var * trackste...'>"
      ]
     },
     "execution_count": 16,
     "metadata": {},
     "output_type": "execute_result"
    }
   ],
   "source": [
    "input_full.selectMainTrackster().tracksters_splitEndcaps"
   ]
  },
  {
   "cell_type": "code",
   "execution_count": 24,
   "metadata": {},
   "outputs": [
    {
     "data": {
      "text/html": [
       "<pre>[[[103, 2.26, 347, 103, 0, 0, 0, 0, 0, 0]],\n",
       " [[74.5, 1.87, 383, 0, 0, 7.58, 0, 0, 66.9, 0]],\n",
       " [[129, 2.22, 401, 0, 0, 0, 0, 39.2, 89.8, 0]],\n",
       " [[176, 2.66, 345, 176, 0, 0, 0, 0, 0, 0]],\n",
       " [[118, 2.09, 349, 0, 114, 0, 0, 2.97, 0.753, 0]],\n",
       " [[43.4, 2.44, 372, 9.16, 0, 0, 34.2, 0, 0, 0]],\n",
       " [[257, 2.29, 391, 0, 0, 0, 94.8, 107, 54.8, 0]],\n",
       " [[1.99, 2.02, 429, 0, 0, 0, 0, 0, 1.99, 0]],\n",
       " [[60.9, 2.33, 339, 60.9, 0, 0, 0, 0, 0, 0]],\n",
       " [[8.84, 2.69, 346, 8.84, 0, 0, 0, 0, 0, 0]],\n",
       " ...,\n",
       " [[301, 1.84, 404, 0, 0, 0, 0, 0, 301, 0]],\n",
       " [[75.7, 1.89, 387, 0, 0, 3.3, 0, 0, 72.3, 0]],\n",
       " [[114, 2.53, 446, 0, 0, 0, 0, 38.5, 75.8, 0]],\n",
       " [[106, 2.84, 426, 0, 0, 0, 24.8, 76.3, 5.28, 0]],\n",
       " [[76.6, 1.9, 337, 0, 13.5, 63, 0, 0, 0, 0]],\n",
       " [[10.1, 1.81, 419, 0, 0, 0, 0, 0, 10.1, 0]],\n",
       " [[248, 2.83, 447, 0, 0, 0, 0, 241, 6.98, 0]],\n",
       " [[255, 2.96, 365, 157, 0, 0, 98.4, 0, 0, 0]],\n",
       " [[227, 2.79, 353, 212, 0, 0, 14.3, 0.338, 0, 0]]]\n",
       "--------------------------------------------------\n",
       "type: 93780 * var * 10 * float32</pre>"
      ],
      "text/plain": [
       "<Array [[[103, 2.26, 347, ..., 0, 0, 0]], ...] type='93780 * var * 10 * flo...'>"
      ]
     },
     "execution_count": 24,
     "metadata": {},
     "output_type": "execute_result"
    }
   ],
   "source": [
    "from dnn.torch_dataset import makeSelectedInputSample\n",
    "input_full.selectMainTrackster().makeDataAk()"
   ]
  },
  {
   "cell_type": "code",
   "execution_count": 37,
   "metadata": {},
   "outputs": [
    {
     "data": {
      "text/html": [
       "<pre>[196,\n",
       " 245,\n",
       " 300,\n",
       " 529,\n",
       " 342,\n",
       " 120,\n",
       " 389,\n",
       " 521,\n",
       " 218,\n",
       " 29.9,\n",
       " ...,\n",
       " 261,\n",
       " 245,\n",
       " 433,\n",
       " 156,\n",
       " 27.3,\n",
       " 13.4,\n",
       " 494,\n",
       " 459,\n",
       " 353]\n",
       "----------------------\n",
       "type: 100000 * float32</pre>"
      ],
      "text/plain": [
       "<Array [196, 245, 300, 529, ..., 13.4, 494, 459, 353] type='100000 * float32'>"
      ]
     },
     "execution_count": 37,
     "metadata": {},
     "output_type": "execute_result"
    }
   ],
   "source": [
    "input_full.caloparticles.regressed_energy[:, 0]"
   ]
  },
  {
   "cell_type": "code",
   "execution_count": 39,
   "metadata": {},
   "outputs": [
    {
     "data": {
      "text/plain": [
       "(array([2.880e+02, 1.640e+02, 1.200e+02, 1.570e+02, 2.030e+02, 2.780e+02,\n",
       "        3.490e+02, 4.690e+02, 5.960e+02, 6.480e+02, 7.630e+02, 9.200e+02,\n",
       "        1.079e+03, 1.284e+03, 1.456e+03, 1.656e+03, 1.925e+03, 2.161e+03,\n",
       "        2.298e+03, 2.461e+03, 2.621e+03, 2.645e+03, 2.639e+03, 2.799e+03,\n",
       "        2.745e+03, 2.856e+03, 2.873e+03, 2.916e+03, 2.939e+03, 2.974e+03,\n",
       "        2.887e+03, 2.921e+03, 2.904e+03, 2.921e+03, 2.910e+03, 2.848e+03,\n",
       "        2.764e+03, 2.692e+03, 2.524e+03, 2.421e+03, 2.330e+03, 2.052e+03,\n",
       "        2.021e+03, 1.756e+03, 1.626e+03, 1.429e+03, 1.220e+03, 1.071e+03,\n",
       "        8.700e+02, 7.920e+02, 6.390e+02, 5.730e+02, 4.590e+02, 3.270e+02,\n",
       "        3.060e+02, 2.400e+02, 1.760e+02, 1.780e+02, 1.390e+02, 1.290e+02,\n",
       "        9.900e+01, 9.500e+01, 5.600e+01, 3.500e+01, 2.700e+01, 2.800e+01,\n",
       "        8.000e+00, 3.000e+00, 2.000e+00, 1.000e+00, 0.000e+00, 1.000e+00,\n",
       "        0.000e+00, 0.000e+00, 4.000e+00, 2.000e+00, 0.000e+00, 1.000e+00,\n",
       "        0.000e+00, 2.000e+00, 0.000e+00, 0.000e+00, 0.000e+00, 0.000e+00,\n",
       "        0.000e+00, 1.000e+00, 0.000e+00, 0.000e+00, 1.000e+00, 1.000e+00,\n",
       "        1.000e+00, 0.000e+00, 0.000e+00, 0.000e+00, 0.000e+00, 0.000e+00,\n",
       "        0.000e+00, 0.000e+00, 0.000e+00, 0.000e+00]),\n",
       " array([0.        , 0.015     , 0.03      , 0.045     , 0.06      ,\n",
       "        0.075     , 0.09      , 0.105     , 0.12      , 0.13500001,\n",
       "        0.15000001, 0.16500001, 0.18000001, 0.19499999, 0.20999999,\n",
       "        0.22499999, 0.23999999, 0.255     , 0.27000001, 0.285     ,\n",
       "        0.30000001, 0.315     , 0.33000001, 0.345     , 0.36000001,\n",
       "        0.375     , 0.38999999, 0.405     , 0.41999999, 0.435     ,\n",
       "        0.44999999, 0.465     , 0.47999999, 0.495     , 0.50999999,\n",
       "        0.52499998, 0.54000002, 0.55500001, 0.56999999, 0.58499998,\n",
       "        0.60000002, 0.61500001, 0.63      , 0.64499998, 0.66000003,\n",
       "        0.67500001, 0.69      , 0.70499998, 0.72000003, 0.73500001,\n",
       "        0.75      , 0.76499999, 0.77999997, 0.79500002, 0.81      ,\n",
       "        0.82499999, 0.83999997, 0.85500002, 0.87      , 0.88499999,\n",
       "        0.89999998, 0.91500002, 0.93000001, 0.94499999, 0.95999998,\n",
       "        0.97500002, 0.99000001, 1.005     , 1.01999998, 1.03499997,\n",
       "        1.04999995, 1.06500006, 1.08000004, 1.09500003, 1.11000001,\n",
       "        1.125     , 1.13999999, 1.15499997, 1.16999996, 1.18499994,\n",
       "        1.20000005, 1.21500003, 1.23000002, 1.245     , 1.25999999,\n",
       "        1.27499998, 1.28999996, 1.30499995, 1.32000005, 1.33500004,\n",
       "        1.35000002, 1.36500001, 1.38      , 1.39499998, 1.40999997,\n",
       "        1.42499995, 1.44000006, 1.45500004, 1.47000003, 1.48500001,\n",
       "        1.5       ]),\n",
       " <BarContainer object of 100 artists>)"
      ]
     },
     "execution_count": 39,
     "metadata": {},
     "output_type": "execute_result"
    },
    {
     "data": {
      "image/png": "[encoded data removed]",
      "text/plain": [
       "<Figure size 640x480 with 1 Axes>"
      ]
     },
     "metadata": {},
     "output_type": "display_data"
    }
   ],
   "source": [
    "ar = ak.sort(input_full.tracksters.raw_energy, ascending=False)\n",
    "import matplotlib.pyplot as plt\n",
    "plt.hist(ar[ak.num(ar, axis=-1) > 0][:, 0] / input_full.caloparticles.regressed_energy[:, 0][ak.num(ar, axis=-1) > 0], bins=100, range=(0, 1.5))"
   ]
  },
  {
   "cell_type": "code",
   "execution_count": 40,
   "metadata": {},
   "outputs": [
    {
     "data": {
      "text/plain": [
       "(array([6.018e+03, 1.620e+02, 1.080e+02, 1.240e+02, 1.350e+02, 1.720e+02,\n",
       "        1.850e+02, 2.150e+02, 2.700e+02, 2.550e+02, 2.900e+02, 3.430e+02,\n",
       "        4.150e+02, 4.190e+02, 4.490e+02, 5.140e+02, 5.740e+02, 5.670e+02,\n",
       "        6.260e+02, 7.690e+02, 7.900e+02, 8.580e+02, 9.380e+02, 1.086e+03,\n",
       "        1.209e+03, 1.330e+03, 1.443e+03, 1.686e+03, 1.852e+03, 1.978e+03,\n",
       "        2.217e+03, 2.357e+03, 2.542e+03, 2.932e+03, 3.233e+03, 3.413e+03,\n",
       "        3.588e+03, 4.031e+03, 4.171e+03, 4.120e+03, 4.323e+03, 4.242e+03,\n",
       "        4.202e+03, 4.001e+03, 3.802e+03, 3.397e+03, 3.103e+03, 2.638e+03,\n",
       "        2.243e+03, 1.887e+03, 1.529e+03, 1.272e+03, 1.054e+03, 7.800e+02,\n",
       "        6.480e+02, 4.450e+02, 3.750e+02, 2.810e+02, 2.180e+02, 1.870e+02,\n",
       "        1.270e+02, 1.320e+02, 8.400e+01, 6.000e+01, 3.700e+01, 3.300e+01,\n",
       "        1.400e+01, 8.000e+00, 2.000e+00, 2.000e+00, 4.000e+00, 3.000e+00,\n",
       "        2.000e+00, 1.000e+00, 3.000e+00, 3.000e+00, 1.000e+00, 1.000e+00,\n",
       "        0.000e+00, 2.000e+00, 1.000e+00, 0.000e+00, 0.000e+00, 0.000e+00,\n",
       "        0.000e+00, 0.000e+00, 0.000e+00, 0.000e+00, 3.000e+00, 1.000e+00,\n",
       "        2.000e+00, 0.000e+00, 0.000e+00, 0.000e+00, 0.000e+00, 0.000e+00,\n",
       "        0.000e+00, 0.000e+00, 0.000e+00, 0.000e+00]),\n",
       " array([0.        , 0.015     , 0.03      , 0.045     , 0.06      ,\n",
       "        0.075     , 0.09      , 0.105     , 0.12      , 0.13500001,\n",
       "        0.15000001, 0.16500001, 0.18000001, 0.19499999, 0.20999999,\n",
       "        0.22499999, 0.23999999, 0.255     , 0.27000001, 0.285     ,\n",
       "        0.30000001, 0.315     , 0.33000001, 0.345     , 0.36000001,\n",
       "        0.375     , 0.38999999, 0.405     , 0.41999999, 0.435     ,\n",
       "        0.44999999, 0.465     , 0.47999999, 0.495     , 0.50999999,\n",
       "        0.52499998, 0.54000002, 0.55500001, 0.56999999, 0.58499998,\n",
       "        0.60000002, 0.61500001, 0.63      , 0.64499998, 0.66000003,\n",
       "        0.67500001, 0.69      , 0.70499998, 0.72000003, 0.73500001,\n",
       "        0.75      , 0.76499999, 0.77999997, 0.79500002, 0.81      ,\n",
       "        0.82499999, 0.83999997, 0.85500002, 0.87      , 0.88499999,\n",
       "        0.89999998, 0.91500002, 0.93000001, 0.94499999, 0.95999998,\n",
       "        0.97500002, 0.99000001, 1.005     , 1.01999998, 1.03499997,\n",
       "        1.04999995, 1.06500006, 1.08000004, 1.09500003, 1.11000001,\n",
       "        1.125     , 1.13999999, 1.15499997, 1.16999996, 1.18499994,\n",
       "        1.20000005, 1.21500003, 1.23000002, 1.245     , 1.25999999,\n",
       "        1.27499998, 1.28999996, 1.30499995, 1.32000005, 1.33500004,\n",
       "        1.35000002, 1.36500001, 1.38      , 1.39499998, 1.40999997,\n",
       "        1.42499995, 1.44000006, 1.45500004, 1.47000003, 1.48500001,\n",
       "        1.5       ]),\n",
       " <BarContainer object of 100 artists>)"
      ]
     },
     "execution_count": 40,
     "metadata": {},
     "output_type": "execute_result"
    },
    {
     "data": {
      "image/png": "[encoded data removed]",
      "text/plain": [
       "<Figure size 640x480 with 1 Axes>"
      ]
     },
     "metadata": {},
     "output_type": "display_data"
    }
   ],
   "source": [
    "\n",
    "plt.hist(ak.sum(input_full.tracksters.raw_energy, axis=-1) / input_full.caloparticles.regressed_energy[:, 0], bins=100, range=(0, 1.5))"
   ]
  }
 ],
 "metadata": {
  "kernelspec": {
   "display_name": "ticlRegression-gpu",
   "language": "python",
   "name": "python3"
  },
  "language_info": {
   "codemirror_mode": {
    "name": "ipython",
    "version": 3
   },
   "file_extension": ".py",
   "mimetype": "text/x-python",
   "name": "python",
   "nbconvert_exporter": "python",
   "pygments_lexer": "ipython3",
   "version": "3.11.8"
  }
 },
 "nbformat": 4,
 "nbformat_minor": 2
}
