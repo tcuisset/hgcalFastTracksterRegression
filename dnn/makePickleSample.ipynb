{
 "cells": [
  {
   "cell_type": "code",
   "execution_count": 1,
   "metadata": {},
   "outputs": [],
   "source": [
    "%load_ext autoreload\n",
    "%autoreload 2\n",
    "import sys\n",
    "sys.path.append(\"..\")\n",
    "from dnn.ak_sample_loader import *\n",
    "from tqdm.auto import tqdm"
   ]
  },
  {
   "cell_type": "markdown",
   "metadata": {},
   "source": [
    "## Training Pions 0PU"
   ]
  },
  {
   "cell_type": "code",
   "execution_count": 2,
   "metadata": {},
   "outputs": [],
   "source": [
    "input_full = AkSampleLoader(\"/grid_mnt/data_cms_upgrade/cuisset/ticlRegression/PionSamples_v2/histo/histo_*.root\", shouldSplitEndcaps=False)"
   ]
  },
  {
   "cell_type": "code",
   "execution_count": 4,
   "metadata": {},
   "outputs": [],
   "source": [
    "input_full.saveToPickle(\"/grid_mnt/data_cms_upgrade/cuisset/ticlRegression/PionSamples_v2/fullData.pkl\")"
   ]
  },
  {
   "cell_type": "markdown",
   "metadata": {},
   "source": [
    "## Validation Pions 0PU"
   ]
  },
  {
   "cell_type": "code",
   "execution_count": 4,
   "metadata": {},
   "outputs": [],
   "source": [
    "from XRootD import client\n",
    "myclient = client.FileSystem('root://eoscms.cern.ch')"
   ]
  },
  {
   "cell_type": "code",
   "execution_count": 5,
   "metadata": {},
   "outputs": [],
   "source": [
    "from XRootD.client.flags import DirListFlags, OpenFlags, MkDirFlags, QueryCode\n",
    "status, listing = myclient.dirlist('/store/group/dpg_hgcal/comm_hgcal/mmatthew/Patatrack15/Samples/Skeleton/')\n"
   ]
  },
  {
   "cell_type": "code",
   "execution_count": 6,
   "metadata": {},
   "outputs": [
    {
     "data": {
      "text/plain": [
       "[<hostaddr: 'eoscms.cern.ch:1094', name: 'CloseByKaon', statinfo: None>,\n",
       " <hostaddr: 'eoscms.cern.ch:1094', name: 'CloseByPion', statinfo: None>,\n",
       " <hostaddr: 'eoscms.cern.ch:1094', name: 'FixedEnergy_10', statinfo: None>,\n",
       " <hostaddr: 'eoscms.cern.ch:1094', name: 'FixedEnergy_100', statinfo: None>,\n",
       " <hostaddr: 'eoscms.cern.ch:1094', name: 'FixedEnergy_200', statinfo: None>,\n",
       " <hostaddr: 'eoscms.cern.ch:1094', name: 'FixedEnergy_300', statinfo: None>,\n",
       " <hostaddr: 'eoscms.cern.ch:1094', name: 'FixedEnergy_400', statinfo: None>,\n",
       " <hostaddr: 'eoscms.cern.ch:1094', name: 'FixedEnergy_500', statinfo: None>,\n",
       " <hostaddr: 'eoscms.cern.ch:1094', name: 'FixedEnergy_600', statinfo: None>]"
      ]
     },
     "execution_count": 6,
     "metadata": {},
     "output_type": "execute_result"
    }
   ],
   "source": [
    "listing.dirlist"
   ]
  },
  {
   "cell_type": "code",
   "execution_count": 7,
   "metadata": {},
   "outputs": [
    {
     "name": "stdout",
     "output_type": "stream",
     "text": [
      "100\n"
     ]
    }
   ],
   "source": [
    "for energy in [100]:#[10, 100, 200, 300, 400, 600]:\n",
    "    print(energy)\n",
    "    status, listing = myclient.dirlist(f'/store/group/dpg_hgcal/comm_hgcal/mmatthew/Patatrack15/Samples/Skeleton/FixedEnergy_{energy}/CloseByPion/histo/')\n",
    "\n",
    "    AkSampleLoader(\n",
    "        [f'root://eoscms.cern.ch///store/group/dpg_hgcal/comm_hgcal/mmatthew/Patatrack15/Samples/Skeleton/FixedEnergy_{energy}/CloseByPion/histo/{elt.name}' for elt in listing.dirlist], shouldSplitEndcaps=False\n",
    "    ).saveToPickle(f\"/grid_mnt/data_cms_upgrade/cuisset/ticlRegression/PionSamples_v2/FixedEnergy_{energy}.pkl\")"
   ]
  },
  {
   "cell_type": "code",
   "execution_count": 4,
   "metadata": {},
   "outputs": [],
   "source": [
    "l = AkSampleLoader(\n",
    "        \"/grid_mnt/data_cms_upgrade/cuisset/ticlRegression/PionSamples_v2/histo/histo_9376310_0.root\", shouldSplitEndcaps=False\n",
    "    )"
   ]
  },
  {
   "cell_type": "code",
   "execution_count": 8,
   "metadata": {},
   "outputs": [
    {
     "data": {
      "text/html": [
       "<pre>[[[393, 406, 412, 412, 418], [400, 406, 406, 412]],\n",
       " [[332, 335, 337, 338, 340, 341, 344, ..., 350, 351, 353, 354, 357, 358], ...],\n",
       " [[341, 344, 345, 347, 348, 350, 351, 353, 354, 357, 358, 360, 361], ...],\n",
       " [[345, 347, 348, 348, 350, 351, 353, 354, 357, 358, 360, 361], ..., [...]],\n",
       " [[400, 406, 412, 418, 425, 431]],\n",
       " [[322, 329, 331, 335, 337, 338, 340, ..., 393, 393, 400, 400, 406, 406], ...],\n",
       " [[338, 340, 341, 344, 345, 347, 348, ..., 358, 360, 361, 368, 374, 381], ...],\n",
       " [[340, 344, 345, 347, 348, 350, 353, 357, 358, 360, 368, 374], ..., [...]],\n",
       " [[357, 358, 368, 374, 374], [...], ..., [406, 412, 418, 418, 425, 425, 431]],\n",
       " [[322, 329, 331, 332, 334, 335, 337, ..., 354, 357, 358, 360, 368, 374], ...],\n",
       " ...,\n",
       " [[331, 332, 334, 335, 337, 338, 340, ..., 351, 353, 354, 357, 358, 360], ...],\n",
       " [[418, 425, 431, 439, 447, 456, 464, 472, 480, 489, 497, 505], [...]],\n",
       " [[368, 368, 374, 381], [368, ..., 400], ..., [431, 439, 447, 456, 456, 472]],\n",
       " [[325, 326, 329, 334], [322, 323, ..., 354], ..., [347, 348, 350, 353, 354]],\n",
       " [[357, 358, 360, 361, 368, 374], [406, 412, 418, 425, 431, 431]],\n",
       " [],\n",
       " [[418, 425, 431, 439, 447, 456, 464, 472, 480], ..., [480, 489, ..., 513]],\n",
       " [[347, 348, 350, 351, 353, 354, 357, ..., 400, 400, 400, 406, 406, 406], ...],\n",
       " [[335, 338, 340, 341, 344, 345, 347, ..., 381, 381, 387, 393, 406, 418], ...]]\n",
       "-------------------------------------------------------------------------------\n",
       "type: 100 * var * var * float32</pre>"
      ],
      "text/plain": [
       "<Array [[[393, 406, ..., 412, 418], ...], ...] type='100 * var * var * float32'>"
      ]
     },
     "execution_count": 8,
     "metadata": {},
     "output_type": "execute_result"
    }
   ],
   "source": [
    "l.tracksters.vertices_z"
   ]
  },
  {
   "cell_type": "markdown",
   "metadata": {},
   "source": [
    "## Testing pions 200PU"
   ]
  },
  {
   "cell_type": "code",
   "execution_count": 2,
   "metadata": {},
   "outputs": [],
   "source": [
    "energies_PU = [10, 20, 50, 100, 200, 500, 600]"
   ]
  },
  {
   "cell_type": "code",
   "execution_count": 4,
   "metadata": {},
   "outputs": [
    {
     "data": {
      "application/vnd.jupyter.widget-view+json": {
       "model_id": "02e143ecad7f493bad64b88251ef6bfe",
       "version_major": 2,
       "version_minor": 0
      },
      "text/plain": [
       "  0%|          | 0/7 [00:00<?, ?it/s]"
      ]
     },
     "metadata": {},
     "output_type": "display_data"
    }
   ],
   "source": [
    "import glob\n",
    "for energy in tqdm(energies_PU):\n",
    "    s = AkSampleLoader(glob.glob(f\"/grid_mnt/data_cms_upgrade/cuisset/ticlRegression/PionSamples_PU/v1/{energy}/dumper_*.root\")[:10], shouldSplitEndcaps=False, filterCaloParticleCount=False, loadAssociations=True, sortTracksters=False)\n",
    "    s.selectPUAssociated()\n",
    "    del s.assocs_simToReco_CP\n",
    "    s.saveToPickle(f\"/grid_mnt/data_cms_upgrade/cuisset/ticlRegression/PionSamples_PU/v1/{energy}_assoc_lowStat.pkl\")"
   ]
  },
  {
   "cell_type": "code",
   "execution_count": 3,
   "metadata": {},
   "outputs": [
    {
     "data": {
      "application/vnd.jupyter.widget-view+json": {
       "model_id": "3ed5cefefe114858abd203822531688d",
       "version_major": 2,
       "version_minor": 0
      },
      "text/plain": [
       "  0%|          | 0/7 [00:00<?, ?it/s]"
      ]
     },
     "metadata": {},
     "output_type": "display_data"
    }
   ],
   "source": [
    "import glob\n",
    "for energy in tqdm(energies_PU):\n",
    "    s = AkSampleLoader(glob.glob(f\"/grid_mnt/data_cms_upgrade/cuisset/ticlRegression/PionSamples_PU/v1/{energy}/dumper_*.root\"), shouldSplitEndcaps=False, filterCaloParticleCount=False, loadAssociations=True, sortTracksters=False)\n",
    "    s.selectPUAssociated()\n",
    "    del s.assocs_simToReco_CP\n",
    "    s.saveToPickle(f\"/grid_mnt/data_cms_upgrade/cuisset/ticlRegression/PionSamples_PU/v1/{energy}_assoc.pkl\")"
   ]
  },
  {
   "cell_type": "code",
   "execution_count": 9,
   "metadata": {},
   "outputs": [
    {
     "data": {
      "application/vnd.jupyter.widget-view+json": {
       "model_id": "2efab1e978fe4413991cd3ab86bb8ba2",
       "version_major": 2,
       "version_minor": 0
      },
      "text/plain": [
       "  0%|          | 0/7 [00:00<?, ?it/s]"
      ]
     },
     "metadata": {},
     "output_type": "display_data"
    }
   ],
   "source": [
    "import glob\n",
    "for energy in tqdm(energies_PU):\n",
    "    s = AkSampleLoader(glob.glob(f\"/grid_mnt/data_cms_upgrade/cuisset/ticlRegression/PionSamples_PU/v1/{energy}/dumper_*.root\"), shouldSplitEndcaps=False, filterCaloParticleCount=False, loadAssociations=True, sortTracksters=False)\n",
    "    #s.selectPUAssociated()\n",
    "    #del s.assocs_simToReco_CP\n",
    "    s.saveToPickle(f\"/grid_mnt/data_cms_upgrade/cuisset/ticlRegression/PionSamples_PU/v1/{energy}.pkl\")"
   ]
  }
 ],
 "metadata": {
  "kernelspec": {
   "display_name": "ticlRegression-gpu",
   "language": "python",
   "name": "python3"
  },
  "language_info": {
   "codemirror_mode": {
    "name": "ipython",
    "version": 3
   },
   "file_extension": ".py",
   "mimetype": "text/x-python",
   "name": "python",
   "nbconvert_exporter": "python",
   "pygments_lexer": "ipython3",
   "version": "3.11.6"
  }
 },
 "nbformat": 4,
 "nbformat_minor": 2
}
