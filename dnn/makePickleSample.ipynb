{
 "cells": [
  {
   "cell_type": "code",
   "execution_count": 2,
   "metadata": {},
   "outputs": [],
   "source": [
    "%load_ext autoreload\n",
    "%autoreload 2\n",
    "import sys\n",
    "sys.path.append(\"..\")\n",
    "from dnn.ak_sample_loader import *"
   ]
  },
  {
   "cell_type": "code",
   "execution_count": 2,
   "metadata": {},
   "outputs": [],
   "source": [
    "input_full = AkSampleLoader(\"/grid_mnt/data_cms_upgrade/cuisset/ticlRegression/PionSamples_v2/histo/histo_*.root\", shouldSplitEndcaps=False)\n"
   ]
  },
  {
   "cell_type": "code",
   "execution_count": 3,
   "metadata": {},
   "outputs": [],
   "source": [
    "input_full.saveToPickle(\"/grid_mnt/data_cms_upgrade/cuisset/ticlRegression/PionSamples_v2/fullData.pkl\")"
   ]
  },
  {
   "cell_type": "code",
   "execution_count": 18,
   "metadata": {},
   "outputs": [],
   "source": [
    "from XRootD import client\n",
    "myclient = client.FileSystem('root://eoscms.cern.ch')"
   ]
  },
  {
   "cell_type": "code",
   "execution_count": 27,
   "metadata": {},
   "outputs": [],
   "source": [
    "from XRootD.client.flags import DirListFlags, OpenFlags, MkDirFlags, QueryCode\n",
    "status, listing = myclient.dirlist('/store/group/dpg_hgcal/comm_hgcal/mmatthew/Patatrack15/Samples/Skeleton/')\n"
   ]
  },
  {
   "cell_type": "code",
   "execution_count": 28,
   "metadata": {},
   "outputs": [
    {
     "data": {
      "text/plain": [
       "[<hostaddr: 'eoscms.cern.ch:1094', name: 'CloseByKaon', statinfo: None>,\n",
       " <hostaddr: 'eoscms.cern.ch:1094', name: 'CloseByPion', statinfo: None>,\n",
       " <hostaddr: 'eoscms.cern.ch:1094', name: 'FixedEnergy_10', statinfo: None>,\n",
       " <hostaddr: 'eoscms.cern.ch:1094', name: 'FixedEnergy_200', statinfo: None>,\n",
       " <hostaddr: 'eoscms.cern.ch:1094', name: 'FixedEnergy_300', statinfo: None>,\n",
       " <hostaddr: 'eoscms.cern.ch:1094', name: 'FixedEnergy_400', statinfo: None>,\n",
       " <hostaddr: 'eoscms.cern.ch:1094', name: 'FixedEnergy_500', statinfo: None>,\n",
       " <hostaddr: 'eoscms.cern.ch:1094', name: 'FixedEnergy_600', statinfo: None>]"
      ]
     },
     "execution_count": 28,
     "metadata": {},
     "output_type": "execute_result"
    }
   ],
   "source": [
    "listing.dirlist"
   ]
  },
  {
   "cell_type": "code",
   "execution_count": 26,
   "metadata": {},
   "outputs": [
    {
     "name": "stdout",
     "output_type": "stream",
     "text": [
      "10\n",
      "200\n",
      "300\n",
      "400\n",
      "600\n"
     ]
    }
   ],
   "source": [
    "for energy in [10, 200, 300, 400, 600]:\n",
    "    print(energy)\n",
    "    status, listing = myclient.dirlist(f'/store/group/dpg_hgcal/comm_hgcal/mmatthew/Patatrack15/Samples/Skeleton/FixedEnergy_{energy}/CloseByPion/histo/')\n",
    "\n",
    "    AkSampleLoader(\n",
    "        [f'root://eoscms.cern.ch///store/group/dpg_hgcal/comm_hgcal/mmatthew/Patatrack15/Samples/Skeleton/FixedEnergy_{energy}/CloseByPion/histo/{elt.name}' for elt in listing.dirlist], shouldSplitEndcaps=False\n",
    "    ).saveToPickle(f\"/grid_mnt/data_cms_upgrade/cuisset/ticlRegression/PionSamples_v2/FixedEnergy_{energy}.pkl\")"
   ]
  }
 ],
 "metadata": {
  "kernelspec": {
   "display_name": "ticlRegression-gpu",
   "language": "python",
   "name": "python3"
  },
  "language_info": {
   "codemirror_mode": {
    "name": "ipython",
    "version": 3
   },
   "file_extension": ".py",
   "mimetype": "text/x-python",
   "name": "python",
   "nbconvert_exporter": "python",
   "pygments_lexer": "ipython3",
   "version": "3.11.8"
  }
 },
 "nbformat": 4,
 "nbformat_minor": 2
}
